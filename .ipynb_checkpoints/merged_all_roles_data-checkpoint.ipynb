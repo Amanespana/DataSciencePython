{
 "cells": [
  {
   "cell_type": "code",
   "execution_count": 1,
   "id": "d8a98ede",
   "metadata": {},
   "outputs": [],
   "source": [
    "import pandas as pd"
   ]
  },
  {
   "cell_type": "code",
   "execution_count": 3,
   "id": "8cb6b376",
   "metadata": {},
   "outputs": [],
   "source": [
    "da_df_all = pd.read_excel('final_DA_UG_2k_jobs.xlsx', sheet_name='All DA DATA')\n",
    "tools_da= pd.read_excel('final_DA_UG_2k_jobs.xlsx', sheet_name='Tool stats')\n",
    "langs_da= pd.read_excel('final_DA_UG_2k_jobs.xlsx', sheet_name='Language stats')\n",
    "packages_da= pd.read_excel('final_DA_UG_2k_jobs.xlsx', sheet_name='Packages stats')\n",
    "states_da= pd.read_excel('final_DA_UG_2k_jobs.xlsx', sheet_name='State stats')"
   ]
  },
  {
   "cell_type": "code",
   "execution_count": 4,
   "id": "507af45f",
   "metadata": {},
   "outputs": [],
   "source": [
    "de_df_all = pd.read_excel('final_DE_UG_600_jobs.xlsx', sheet_name='All DE DATA')\n",
    "tools_de= pd.read_excel('final_DE_UG_600_jobs.xlsx', sheet_name='Toolstats')\n",
    "langs_de= pd.read_excel('final_DE_UG_600_jobs.xlsx', sheet_name='Language stats')\n",
    "packages_de= pd.read_excel('final_DE_UG_600_jobs.xlsx', sheet_name='Packages stats')\n",
    "states_de= pd.read_excel('final_DE_UG_600_jobs.xlsx', sheet_name='State stats')"
   ]
  },
  {
   "cell_type": "code",
   "execution_count": 5,
   "id": "526896f6",
   "metadata": {},
   "outputs": [],
   "source": [
    "ds_df_all = pd.read_excel('final_DS_UG_700_jobs.xlsx', sheet_name='All DS DATA')\n",
    "tools_ds= pd.read_excel('final_DS_UG_700_jobs.xlsx', sheet_name='Tool stats')\n",
    "langs_ds= pd.read_excel('final_DS_UG_700_jobs.xlsx', sheet_name='Language stats')\n",
    "packages_ds= pd.read_excel('final_DS_UG_700_jobs.xlsx', sheet_name='Packages stats')\n",
    "states_ds= pd.read_excel('final_DS_UG_700_jobs.xlsx', sheet_name='State stats')"
   ]
  },
  {
   "cell_type": "code",
   "execution_count": 6,
   "id": "7ef3e79f",
   "metadata": {},
   "outputs": [],
   "source": [
    "merged_all_data = pd.concat([da_df_all, ds_df_all, de_df_all], axis= 0, ignore_index=True)\n",
    "merged_tool_stats = pd.concat([tools_da, tools_ds, tools_de], axis= 0, ignore_index=True)\n",
    "merged_lang_stats = pd.concat([langs_da, langs_ds, langs_de], axis= 0, ignore_index=True)\n",
    "merged_packages_stats = pd.concat([packages_da, packages_ds, packages_de], axis= 0, ignore_index=True)\n",
    "merged_state_stats = pd.concat([states_da, states_ds, states_de], axis= 0, ignore_index=True)"
   ]
  },
  {
   "cell_type": "code",
   "execution_count": 7,
   "id": "2fbfdb6e",
   "metadata": {},
   "outputs": [],
   "source": [
    "#engine xlswriter can't append, so better to use openpyxl everytime and use below method instead of above method\n",
    "\n",
    "with pd.ExcelWriter(r'C:\\Users\\15145\\Desktop\\projects\\DA_DataScience_jobs\\merged_all_cleaned_data.xlsx', engine='openpyxl', mode = 'w') as writer:\n",
    "    merged_all_data.to_excel(writer, sheet_name = 'All DATA', index = False)\n",
    "    merged_tool_stats.to_excel(writer, sheet_name = 'Tool stats', index = False)\n",
    "    merged_lang_stats.to_excel(writer, sheet_name = 'Language stats', index = False)\n",
    "    merged_packages_stats.to_excel(writer, sheet_name = 'Packages stats', index = False)\n",
    "    merged_state_stats.to_excel(writer, sheet_name = 'State stats', index = False)"
   ]
  }
 ],
 "metadata": {
  "kernelspec": {
   "display_name": "Python 3 (ipykernel)",
   "language": "python",
   "name": "python3"
  },
  "language_info": {
   "codemirror_mode": {
    "name": "ipython",
    "version": 3
   },
   "file_extension": ".py",
   "mimetype": "text/x-python",
   "name": "python",
   "nbconvert_exporter": "python",
   "pygments_lexer": "ipython3",
   "version": "3.8.13"
  }
 },
 "nbformat": 4,
 "nbformat_minor": 5
}
