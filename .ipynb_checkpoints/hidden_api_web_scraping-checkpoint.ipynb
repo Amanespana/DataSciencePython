{
 "cells": [
  {
   "cell_type": "code",
   "execution_count": 2,
   "id": "1745de69",
   "metadata": {},
   "outputs": [],
   "source": [
    "import requests\n",
    "import pandas as pd"
   ]
  },
  {
   "cell_type": "code",
   "execution_count": 3,
   "id": "bcabdc10",
   "metadata": {},
   "outputs": [
    {
     "ename": "NameError",
     "evalue": "name 'cookies' is not defined",
     "output_type": "error",
     "traceback": [
      "\u001b[1;31m---------------------------------------------------------------------------\u001b[0m",
      "\u001b[1;31mNameError\u001b[0m                                 Traceback (most recent call last)",
      "Input \u001b[1;32mIn [3]\u001b[0m, in \u001b[0;36m<cell line: 39>\u001b[1;34m()\u001b[0m\n\u001b[0;32m      1\u001b[0m headers \u001b[38;5;241m=\u001b[39m {\n\u001b[0;32m      2\u001b[0m     \u001b[38;5;124m'\u001b[39m\u001b[38;5;124mauthority\u001b[39m\u001b[38;5;124m'\u001b[39m: \u001b[38;5;124m'\u001b[39m\u001b[38;5;124mwww.naukri.com\u001b[39m\u001b[38;5;124m'\u001b[39m,\n\u001b[0;32m      3\u001b[0m     \u001b[38;5;124m'\u001b[39m\u001b[38;5;124maccept\u001b[39m\u001b[38;5;124m'\u001b[39m: \u001b[38;5;124m'\u001b[39m\u001b[38;5;124mapplication/json\u001b[39m\u001b[38;5;124m'\u001b[39m,\n\u001b[1;32m   (...)\u001b[0m\n\u001b[0;32m     20\u001b[0m     \u001b[38;5;124m'\u001b[39m\u001b[38;5;124muser-agent\u001b[39m\u001b[38;5;124m'\u001b[39m: \u001b[38;5;124m'\u001b[39m\u001b[38;5;124mMozilla/5.0 (Windows NT 10.0; Win64; x64) AppleWebKit/537.36 (KHTML, like Gecko) Chrome/104.0.0.0 Safari/537.36\u001b[39m\u001b[38;5;124m'\u001b[39m,\n\u001b[0;32m     21\u001b[0m }\n\u001b[0;32m     23\u001b[0m params \u001b[38;5;241m=\u001b[39m {\n\u001b[0;32m     24\u001b[0m     \u001b[38;5;124m'\u001b[39m\u001b[38;5;124mnoOfResults\u001b[39m\u001b[38;5;124m'\u001b[39m: \u001b[38;5;124m'\u001b[39m\u001b[38;5;124m20\u001b[39m\u001b[38;5;124m'\u001b[39m,\n\u001b[0;32m     25\u001b[0m     \u001b[38;5;124m'\u001b[39m\u001b[38;5;124murlType\u001b[39m\u001b[38;5;124m'\u001b[39m: \u001b[38;5;124m'\u001b[39m\u001b[38;5;124msearch_by_key_loc\u001b[39m\u001b[38;5;124m'\u001b[39m,\n\u001b[1;32m   (...)\u001b[0m\n\u001b[0;32m     36\u001b[0m     \u001b[38;5;124m'\u001b[39m\u001b[38;5;124msid\u001b[39m\u001b[38;5;124m'\u001b[39m: \u001b[38;5;124m'\u001b[39m\u001b[38;5;124m16625722363674280_3\u001b[39m\u001b[38;5;124m'\u001b[39m,\n\u001b[0;32m     37\u001b[0m }\n\u001b[1;32m---> 39\u001b[0m response \u001b[38;5;241m=\u001b[39m requests\u001b[38;5;241m.\u001b[39mget(\u001b[38;5;124m'\u001b[39m\u001b[38;5;124mhttps://www.naukri.com/jobapi/v3/search\u001b[39m\u001b[38;5;124m'\u001b[39m, params\u001b[38;5;241m=\u001b[39mparams, cookies\u001b[38;5;241m=\u001b[39m\u001b[43mcookies\u001b[49m, headers\u001b[38;5;241m=\u001b[39mheaders)\n",
      "\u001b[1;31mNameError\u001b[0m: name 'cookies' is not defined"
     ]
    }
   ],
   "source": [
    "headers = {\n",
    "    'authority': 'www.naukri.com',\n",
    "    'accept': 'application/json',\n",
    "    'accept-language': 'en-US,en;q=0.9',\n",
    "    'appid': '109',\n",
    "    'cache-control': 'no-cache',\n",
    "    'clientid': 'd3skt0p',\n",
    "    'content-type': 'application/json',\n",
    "    # Requests sorts cookies= alphabetically\n",
    "    # 'cookie': '_t_s=direct; _t_ds=2ab88fc81662572215-112ab88fc8-02ab88fc8; _t_us=6318D6B7; test=naukri.com; _t_us=6318D6B7; _t_s=direct; _t_r=1030%2F%2F; persona=default; PHPSESSID=507c7edf78c47d126030da7e40fcc797; _t_ds=2ab88fc81662572215-112ab88fc8-02ab88fc8; bm_sz=E929D2FF2A781C9C34F2256AF7F41F6D~YAAQjg/QF9lExvSCAQAA+74GGRGA+uaLBbPqFAaJfsL6LgpG2NLyazGom9pYVzs8glMu5L0QuHakKCPg6zMXWIyLhSWdlbbrgbBiEu84af62ErHANMb5qqhA2xPKDwdRmFeWTuJ6ljFMUf6on1WUG6vPEIjbI+m1SDcKjnBMd7k9ppa0Y5P2RnFoSsuOLgszeamuCzOa+czP11znLMVYDTulqUoQWJNDu+ptCjZvyWuPkFj3XUVtNQ0yIvtclMeyyliWH6ulVcyRmI1azVOX9QITVymPhjcZUrM+Q14N9xGL+6I=~4469816~4469057; _gcl_au=1.1.777688842.1662572217; _ga=GA1.2.89532583.1662572217; _gid=GA1.2.2100364534.1662572217; ak_bmsc=C7B943FC782030C66AE218AA6353AC1C~000000000000000000000000000000~YAAQjg/QF5FFxvSCAQAAI8QGGREAT1oc6rE1LI7dvJRGSZyJFY+fQZfWAuW/JGevxcsXfnLg4SKuMwNIacY9uTUEKkvMj94FLeFN4mgrQGiK2Quy4189JfSO/3N3O1G20eT9mnBffRwfY5MgMH45nGIzixIVV09HI21ZqWasdEbNZhKFc4bFNEq+jyhQaaxHzvLGkxUnMN/cvNpftgga2z5H3wgsG1G6QT5CV5sNGxkKTwjWQ5WPTrBURgKhsOm2ZBr57IjKACedgdasLM711MXUyGfGhYYpaYoZbNXmkYU9SBG2Wjk5iZSJY7150vMCrxgxk2aBGoOc/niJl6vFtct1cySNNirIffsYcOy/QgJjTpyEJS84XVQgQYSUcyltp1t2Z0Y0cVu+DGg5OR//FEsBGhPYRnWnUs3DuD8MErHEM7lV2J6Ntx5Xyfnf0nynXJr1syWa++5yVZ0t5r7wROLzuCZjeVsENIxxNfmkPYN6FHJiJ6jBnxKMfZg=; _abck=AAF25E3E342E5E710E456B754B31E932~0~YAAQjg/QF8hFxvSCAQAAscUGGQiStB+r1vbk2zQUdnFmRoiknyI5wY5bmajEzqReY2APEzrPxLVQJNRptod4jYGI0+q+Fw4VCcqkshNUN/9A6l6jiEXUPI2jc844/mpSvgGo1R514jQZe8edQX9igUAblDN0v3qmnBFJxvOHlxz8t9DyqujRJgtT2zNTslG5xS0bZxgZ+WZ5/O6wKh4DA78fbOWlW563eKuZRdd6hycY7z5sdO+INQ+ToQW1hUb8nWiam3PAqgtBVHgvjHRuthHRih6qK7uwrYIdP2g64+Ma6YEmdl8Is/5vi17mkBRvmvRWtaK3LG/IprW+3FJmDBKZP+q/E88BaEpvvQvtlzUGKhfxwHBuOlHsAL97hQfiEylyp9nLSXm+dqcUsrSjCgXNwAxI/A1/~-1~||-1||~-1; _fbp=fb.1.1662572220574.1281801863; __gads=ID=34d7d1ddf36e59b4-2273d1630ed50084:T=1662572236:S=ALNI_MasrR3jSI1L_rsN9i45XrzX8rvPTw; __gpi=UID=00000899608345d3:T=1662572236:RT=1662572236:S=ALNI_MZzlLHq2ROivnDXjWh5902NxN8IVw; cto_bundle=PkWYNV9CUm1JQVJXNzhvVVBRSVEzVHJucW13UW56N2lNVXBsN2JWQm1oS3RQNVgxa1FsZXclMkY5MFc0c3hLTzlmVFh6eWM2MnRYck52TDRlY2lLcURpODdveDk3YjNlSmlESGZPaUNib3RlM1IwJTJCNFhTUUFlMWNJRjhoJTJCT2M3RFRFdkElMkZ3; _gat_UA-182658-1=1; bm_sv=E35D51A85FE43ECB31CE614DB41B6931~YAAQjg/QF4N+xvSCAQAAgFIIGRGD/InRo8MLn7UeKJEiW4rO6ZEcGmxFFkGczvLCnM1bmVxZUdf9vwLXI6T64D7C4vg0Hj/hZnSVfhsIutekCTvyKx9Eqy0dIltaF/KFVjah8ziC75ABZGiMj8xD9zksqMnfrO68yENZtJ8gtAViKavbiAVydhYe8mSbZBK4qToCtNMaMUD7Rfy2fjTXNEjQm2kb8/wCfSnshGPOPYTMzzMX89K27fQjMvGdRkIm~1; HOWTORT=ul=1662572234872&r=https%3A%2F%2Fwww.naukri.com%2Fdata-analyst-jobs-in-india-2%3Fk%3Ddata%2520analyst%26l%3Dindia&hd=1662572235219&cl=1662572331481&nu=https%3A%2F%2Fwww.naukri.com%2Fdata-analyst-jobs-in-india',\n",
    "    'gid': 'LOCATION,INDUSTRY,EDUCATION,FAREA_ROLE',\n",
    "    'referer': 'https://www.naukri.com/data-analyst-jobs-in-india?k=data%20analyst&l=india',\n",
    "    'sec-ch-ua': '\"Chromium\";v=\"104\", \" Not A;Brand\";v=\"99\", \"Google Chrome\";v=\"104\"',\n",
    "    'sec-ch-ua-mobile': '?0',\n",
    "    'sec-ch-ua-platform': '\"Windows\"',\n",
    "    'sec-fetch-dest': 'empty',\n",
    "    'sec-fetch-mode': 'cors',\n",
    "    'sec-fetch-site': 'same-origin',\n",
    "    'systemid': '109',\n",
    "    'user-agent': 'Mozilla/5.0 (Windows NT 10.0; Win64; x64) AppleWebKit/537.36 (KHTML, like Gecko) Chrome/104.0.0.0 Safari/537.36',\n",
    "}\n",
    "\n",
    "params = {\n",
    "    'noOfResults': '20',\n",
    "    'urlType': 'search_by_key_loc',\n",
    "    'searchType': 'adv',\n",
    "    'keyword': 'data analyst',\n",
    "    'location': 'india',\n",
    "    'pageNo': '1',\n",
    "    'sort': 'r',\n",
    "    'k': 'data analyst',\n",
    "    'l': 'india',\n",
    "    'seoKey': 'data-analyst-jobs-in-india',\n",
    "    'src': 'jobsearchDesk',\n",
    "    'latLong': '',\n",
    "    'sid': '16625722363674280_3',\n",
    "}\n",
    "\n",
    "response = requests.get('https://www.naukri.com/jobapi/v3/search', params=params, cookies=cookies, headers=headers)"
   ]
  }
 ],
 "metadata": {
  "kernelspec": {
   "display_name": "Python 3 (ipykernel)",
   "language": "python",
   "name": "python3"
  },
  "language_info": {
   "codemirror_mode": {
    "name": "ipython",
    "version": 3
   },
   "file_extension": ".py",
   "mimetype": "text/x-python",
   "name": "python",
   "nbconvert_exporter": "python",
   "pygments_lexer": "ipython3",
   "version": "3.8.13"
  }
 },
 "nbformat": 4,
 "nbformat_minor": 5
}
